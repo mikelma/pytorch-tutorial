{
  "nbformat": 4,
  "nbformat_minor": 0,
  "metadata": {
    "colab": {
      "provenance": [],
      "toc_visible": true,
      "gpuType": "T4"
    },
    "kernelspec": {
      "name": "python3",
      "display_name": "Python 3"
    },
    "language_info": {
      "name": "python"
    },
    "accelerator": "GPU"
  },
  "cells": [
    {
      "cell_type": "markdown",
      "source": [
        "# **Don't panic!** A gentle introduction to PyTorch 🔥\n",
        "\n",
        "**Author**: Mikel Malagón <mikel.malagon@ehu.eus>\n",
        "\n",
        "This is an introductory notebook to get up and running with [PyTorch](https://pytorch.org/), one of the most popular deep learning libraries. The aim of this notebook is to introduce the most basic and commonly used aspects of PyTorch to start developing your projects using this library as fast as possible. The notebook assumes basic knowledge on python, machine learning, and that PyTorch is installed, for installation instructions visit the \"install pytorch\" section of its [main page](https://pytorch.org/).\n",
        "\n",
        "⚠️ In case you are running this notebook on Google Colab, I highly recommend enabling GPU in: Runtime > Select runtime type > Hardware accelerator > GPU.\n",
        "\n",
        "<br>\n",
        "\n",
        "**NOTE:** In case you found some bug or have any question/suggestion, don't hesitate to send a mail to the address above.\n",
        "\n",
        "**NOTE:** This notebook is released under the [GPLv3](https://www.gnu.org/licenses/gpl-3.0.en.html) free software license."
      ],
      "metadata": {
        "id": "8qwzo75IiSdF"
      }
    },
    {
      "cell_type": "markdown",
      "source": [
        "## Set up\n",
        "\n",
        "First things first, let's import PyTorch to our environment together with matplotlib and numpy."
      ],
      "metadata": {
        "id": "DAzFRJCaoXPW"
      }
    },
    {
      "cell_type": "code",
      "source": [
        "import torch\n",
        "\n",
        "import matplotlib.pyplot as plt\n",
        "import numpy as np"
      ],
      "metadata": {
        "id": "MTiCoG0dpXq-"
      },
      "execution_count": 36,
      "outputs": []
    },
    {
      "cell_type": "markdown",
      "source": [
        "The following line just checks if there is some GPU available and sets the `device` variable accordingly."
      ],
      "metadata": {
        "id": "5v9vp0y8oq-f"
      }
    },
    {
      "cell_type": "code",
      "source": [
        "device = \"cuda:0\" if torch.cuda.is_available() else \"cpu\"\n",
        "print(\"Using device:\", device)"
      ],
      "metadata": {
        "colab": {
          "base_uri": "https://localhost:8080/"
        },
        "id": "FALQcDznosnm",
        "outputId": "914b2154-f0f1-4c6f-e610-68620ecdc5d8"
      },
      "execution_count": 37,
      "outputs": [
        {
          "output_type": "stream",
          "name": "stdout",
          "text": [
            "Using device: cuda:0\n"
          ]
        }
      ]
    },
    {
      "cell_type": "markdown",
      "source": [
        "## Introducing the basic element: *the tensor* 🔥💦🌬🗻\n",
        "\n",
        "Tensors are the central object in pytorch. They can have a single dimension (vector), 2 dimensions (matrix), or n-dimensions (tensor). They also share a very similar interface to `ndarray`s of the popular `numpy` library. In PyTorch, tensors are represented with the [`Tensor`](https://pytorch.org/docs/stable/tensors.html) object.\n",
        "\n",
        "Let's create our first pytorch tensors with some default values:"
      ],
      "metadata": {
        "id": "md3MeZ2iim6k"
      }
    },
    {
      "cell_type": "code",
      "execution_count": 38,
      "metadata": {
        "colab": {
          "base_uri": "https://localhost:8080/"
        },
        "id": "ST8WHqkCiOgt",
        "outputId": "25776e5b-8688-4d27-cc81-ad66023ec45d"
      },
      "outputs": [
        {
          "output_type": "execute_result",
          "data": {
            "text/plain": [
              "tensor([0., 1., 2.])"
            ]
          },
          "metadata": {},
          "execution_count": 38
        }
      ],
      "source": [
        "my_tensor = torch.Tensor([0., 1., 2.]) # Note that 2.0 can be written as 2. in Pyhton\n",
        "my_tensor"
      ]
    },
    {
      "cell_type": "markdown",
      "source": [
        "Now that we have created a tensor, let's explore the \"must know\" attributes or properties that all pytorch tensors have:"
      ],
      "metadata": {
        "id": "cBIC0eVnvynV"
      }
    },
    {
      "cell_type": "code",
      "source": [
        "print(\"The size of the tensor is:\", my_tensor.size())\n",
        "\n",
        "print(\"The type of the tensor is:\", my_tensor.dtype)\n",
        "\n",
        "print(\"Where is the tensor? \", my_tensor.device)\n",
        "\n",
        "print(\"Has the gradient property? \", my_tensor.requires_grad)"
      ],
      "metadata": {
        "colab": {
          "base_uri": "https://localhost:8080/"
        },
        "id": "FtDNycQ8vxz6",
        "outputId": "003f0a2d-e4c7-4fc5-ac23-71c3b8a5d3b0"
      },
      "execution_count": 39,
      "outputs": [
        {
          "output_type": "stream",
          "name": "stdout",
          "text": [
            "The size of the tensor is: torch.Size([3])\n",
            "The type of the tensor is: torch.float32\n",
            "Where is the tensor?  cpu\n",
            "Has the gradient property?  False\n"
          ]
        }
      ]
    },
    {
      "cell_type": "markdown",
      "source": [
        "Note that pytorch tensors have the folowing default properties:\n",
        "- The tensor is stored in CPU memory.\n",
        "- By default numbers are stored as 32 bit float."
      ],
      "metadata": {
        "id": "PNEMc7qyr_KM"
      }
    },
    {
      "cell_type": "markdown",
      "source": [
        "PyTorch tensors have a very similar interface to numpy's `ndarray`, let's see how to do some basic math operations with tensors:"
      ],
      "metadata": {
        "id": "XJQN-uTGl3Ml"
      }
    },
    {
      "cell_type": "code",
      "source": [
        "double = 2 * my_tensor # multiply a tensor by an scalar\n",
        "half = my_tensor / 2\n",
        "triple = double + my_tensor # operations between tensors\n",
        "\n",
        "print(\"Half:\", half)\n",
        "print(\"Double:\", double)\n",
        "print(\"Triple:\", triple)"
      ],
      "metadata": {
        "colab": {
          "base_uri": "https://localhost:8080/"
        },
        "id": "1JtTeEPwmBvw",
        "outputId": "075eb4ff-9034-43f6-a39c-cf95e8c041c5"
      },
      "execution_count": 40,
      "outputs": [
        {
          "output_type": "stream",
          "name": "stdout",
          "text": [
            "Half: tensor([0.0000, 0.5000, 1.0000])\n",
            "Double: tensor([0., 2., 4.])\n",
            "Triple: tensor([0., 3., 6.])\n"
          ]
        }
      ]
    },
    {
      "cell_type": "markdown",
      "source": [
        "Pretty easy! right? As you can see, pytorch tensors can be manipulated using standard python operators, leading to cleaner code. But these operations can also be done directly using pytorch library functions ([reference](https://pytorch.org/docs/stable/torch.html)):"
      ],
      "metadata": {
        "id": "_rMHV7FooYvY"
      }
    },
    {
      "cell_type": "code",
      "source": [
        "# repeat the same operations from the code block above but using pytorch functions\n",
        "double = torch.mul(2., my_tensor)\n",
        "half = torch.div(my_tensor, 2.)\n",
        "triple = torch.sum(double + my_tensor)  # torch.add(double, my_tensor)?\n",
        "\n",
        "print(\"Half:\", half)\n",
        "print(\"Double:\", double)\n",
        "print(\"Triple:\", triple)"
      ],
      "metadata": {
        "colab": {
          "base_uri": "https://localhost:8080/"
        },
        "id": "jek8-I_eovpT",
        "outputId": "d340b03b-a1ef-4874-a4f8-5585791e7e8f"
      },
      "execution_count": 41,
      "outputs": [
        {
          "output_type": "stream",
          "name": "stdout",
          "text": [
            "Half: tensor([0.0000, 0.5000, 1.0000])\n",
            "Double: tensor([0., 2., 4.])\n",
            "Triple: tensor(9.)\n"
          ]
        }
      ]
    },
    {
      "cell_type": "markdown",
      "source": [
        "In the examples above, we have used a tensor created with some default values, but pytorch offers a wide variety of handy constructors to create our tensors. These are some of the most used ones, but the complete list of constructors can be found [here](https://pytorch.org/docs/stable/torch.html#creation-ops).  "
      ],
      "metadata": {
        "id": "puaDeZJvpOKK"
      }
    },
    {
      "cell_type": "code",
      "source": [
        "# Create a tensor of 3x3 dimension with all values set to zero\n",
        "z = torch.zeros(3, 3)\n",
        "print(\"--> torch.zeros:\\n\\n\", z)\n",
        "\n",
        "# A tensor whose values are sampled from a uniform distribution on the [0, 1) range\n",
        "u = torch.rand((3, 3)) # the shape of the tensor goes between parenthesis here\n",
        "print(\"\\n--> torch.rand:\\n\\n\", u)\n",
        "\n",
        "# A tensor whose values are sampled from a (0, 1) normal\n",
        "n = torch.randn((3, 3))\n",
        "print(\"\\n--> torch.randn:\\n\\n\", n)\n",
        "\n",
        "# Returns a 2-D tensor with ones on the diagonal and zeros elsewhere\n",
        "i = torch.eye(3, 3)\n",
        "print(\"\\n--> torch.eye:\\n\\n\", i)\n",
        "\n",
        "# Returns a 2-D tensor with ones on the diagonal and zeros elsewhere\n",
        "o = torch.ones(3, 3)\n",
        "print(\"\\n--> torch.ones:\\n\\n\", o)"
      ],
      "metadata": {
        "colab": {
          "base_uri": "https://localhost:8080/"
        },
        "id": "NIQXUXJ2pNSj",
        "outputId": "741b93ba-7563-4e57-ae2d-df3027f53cea"
      },
      "execution_count": 42,
      "outputs": [
        {
          "output_type": "stream",
          "name": "stdout",
          "text": [
            "--> torch.zeros:\n",
            "\n",
            " tensor([[0., 0., 0.],\n",
            "        [0., 0., 0.],\n",
            "        [0., 0., 0.]])\n",
            "\n",
            "--> torch.rand:\n",
            "\n",
            " tensor([[0.8715, 0.0883, 0.2584],\n",
            "        [0.3612, 0.1993, 0.1960],\n",
            "        [0.8456, 0.9215, 0.2259]])\n",
            "\n",
            "--> torch.randn:\n",
            "\n",
            " tensor([[-1.1568, -0.8260, -1.3750],\n",
            "        [ 0.6145,  0.0701,  0.1743],\n",
            "        [ 1.6589, -0.1883,  0.2057]])\n",
            "\n",
            "--> torch.eye:\n",
            "\n",
            " tensor([[1., 0., 0.],\n",
            "        [0., 1., 0.],\n",
            "        [0., 0., 1.]])\n",
            "\n",
            "--> torch.ones:\n",
            "\n",
            " tensor([[1., 1., 1.],\n",
            "        [1., 1., 1.],\n",
            "        [1., 1., 1.]])\n"
          ]
        }
      ]
    },
    {
      "cell_type": "markdown",
      "source": [
        "## Where the witchcraft starts 🧙‍♂️: ✨Autograd✨\n",
        "\n",
        "Remember the code cell in wich we saw the properties of pytorch tensors, the `requires_grad` property of the tensor was set to `False`. This property tells pytorch wheter or not to track the gradient of a tensor. In this section we will see how to use pytorch's Autograd to automatically compute the gradient of a tensor.\n",
        "\n",
        "Let's start by creating a tensor with some default values and setting its `requires_grad` property:"
      ],
      "metadata": {
        "id": "m1tihpkwrHXC"
      }
    },
    {
      "cell_type": "code",
      "source": [
        "x = torch.tensor(\n",
        "    [[1., -1.],\n",
        "     [-1., 1.]],\n",
        "    requires_grad=True) # track gradients\n",
        "x"
      ],
      "metadata": {
        "colab": {
          "base_uri": "https://localhost:8080/"
        },
        "id": "8LoVk7cGrG6m",
        "outputId": "3ef6067c-63f6-4fb5-ae9e-04f75b77bd6f"
      },
      "execution_count": 43,
      "outputs": [
        {
          "output_type": "execute_result",
          "data": {
            "text/plain": [
              "tensor([[ 1., -1.],\n",
              "        [-1.,  1.]], requires_grad=True)"
            ]
          },
          "metadata": {},
          "execution_count": 43
        }
      ]
    },
    {
      "cell_type": "markdown",
      "source": [
        "Note how this time the `requires_grad` attribute is set to `True`, indicating pytorch to track the operations over it to then be able to compute the gradient. So let's test it! Compute the sum of the squares of the tensor `x`:"
      ],
      "metadata": {
        "id": "OAg5yq3QxyLL"
      }
    },
    {
      "cell_type": "code",
      "source": [
        "x1 = x.pow(2)\n",
        "# print(x1)\n",
        "out = x1.sum()\n",
        "out"
      ],
      "metadata": {
        "colab": {
          "base_uri": "https://localhost:8080/"
        },
        "id": "W7orQhioxt59",
        "outputId": "5084d1cf-4bd8-4e2c-ad86-8bff4145945d"
      },
      "execution_count": 44,
      "outputs": [
        {
          "output_type": "execute_result",
          "data": {
            "text/plain": [
              "tensor(4., grad_fn=<SumBackward0>)"
            ]
          },
          "metadata": {},
          "execution_count": 44
        }
      ]
    },
    {
      "cell_type": "markdown",
      "source": [
        "This is already a bit of a spoiler, notice that the resulting `out` tensor doesn't only contain the final value of the operation (`4.0`) but it also contains a property `grad_fn` that is set to an object named `SumBackward0`. In fact, when operating on a tensor with the `requires_grad` attribute set to `True`, the tensor resulting from any operation on it will contain a `grad_fn` attribute with the derivative function of the applied operation. This way, pytorch is able to construct a graph of the operations that led to a specific tensor to later perform automatic differentiation.\n",
        "\n",
        "In this example, we will compute the gradient of the tensor `x` with respect to the result of the operation, the tensor `out`. By calling the method `backward` on the `out` tensor, Autograd will traverse the described graph and will compute the gradients of all tensors that led to the tensor `out`."
      ],
      "metadata": {
        "id": "r_QVfMU2yR5D"
      }
    },
    {
      "cell_type": "code",
      "source": [
        "out.backward()"
      ],
      "metadata": {
        "id": "Jncw5mQmyNRj"
      },
      "execution_count": 45,
      "outputs": []
    },
    {
      "cell_type": "markdown",
      "source": [
        "To access to the gradients of the tensor `x` we simply have to check its `grad` attribute:"
      ],
      "metadata": {
        "id": "h11M5K2J0_kP"
      }
    },
    {
      "cell_type": "code",
      "source": [
        "x.grad"
      ],
      "metadata": {
        "colab": {
          "base_uri": "https://localhost:8080/"
        },
        "id": "RfproSB61M58",
        "outputId": "0508b781-d024-4a36-a933-06f305ea17f8"
      },
      "execution_count": 46,
      "outputs": [
        {
          "output_type": "execute_result",
          "data": {
            "text/plain": [
              "tensor([[ 2., -2.],\n",
              "        [-2.,  2.]])"
            ]
          },
          "metadata": {},
          "execution_count": 46
        }
      ]
    },
    {
      "cell_type": "markdown",
      "source": [
        "Voilà! Just using 4 lines of code we used Autograd, the automatic differentiation engine of pytorch, to compute automatically the gradients of a tensor<h1>💃🕺</h1>\n",
        "\n",
        "- 📖 More information on Autograd and how to use it can be found [here](https://pytorch.org/docs/stable/notes/autograd.html)."
      ],
      "metadata": {
        "id": "sr1t8_vJ1L93"
      }
    },
    {
      "cell_type": "markdown",
      "source": [
        "TODO (Jon): For those used to TF, it is more natural to use [torch.autograd.grad](https://pytorch.org/docs/stable/generated/torch.autograd.grad.html). I'll include an example comparing that with .backward()"
      ],
      "metadata": {
        "id": "thsT8LM3VcWX"
      }
    },
    {
      "cell_type": "markdown",
      "source": [
        "## Linear regression with gradient descent 📈\n",
        "\n",
        "Now that we have covered the basics of tensors and autograd, we can get into the first proper exercise: linear regression using gradient descent!!!🙌🥳🤓 Not super impressive, but the concepts built in this example perfectly translate to more complex use cases.\n",
        "\n",
        "<br>\n",
        "Let's start by creating some data for the sake of the exercise. Note that the contents of this function aren't very relevant right now, but trying to understand it in depth can be a nice exercise for later (once you have become a pytorch ninja 🥷)."
      ],
      "metadata": {
        "id": "uTZaA81Wy8jv"
      }
    },
    {
      "cell_type": "code",
      "source": [
        "def data_gen(n_samples=10, x_max=1, intercept=0, noise_gain=0.1):\n",
        "    # uniformly sample the [0, 1) interval\n",
        "    x = x_max*torch.rand(n_samples)\n",
        "    # add some Gaussian noise to x\n",
        "    y = x + noise_gain*torch.randn(n_samples) + intercept\n",
        "    return x[:, None], y[:, None]\n",
        "\n",
        "x, y = data_gen(n_samples=100)\n",
        "plt.scatter(x, y)"
      ],
      "metadata": {
        "colab": {
          "base_uri": "https://localhost:8080/",
          "height": 447
        },
        "id": "btW-rXZVz9RE",
        "outputId": "c38add57-b824-43d6-a11e-b05a1f37d5e5"
      },
      "execution_count": 47,
      "outputs": [
        {
          "output_type": "execute_result",
          "data": {
            "text/plain": [
              "<matplotlib.collections.PathCollection at 0x798dd0b72620>"
            ]
          },
          "metadata": {},
          "execution_count": 47
        },
        {
          "output_type": "display_data",
          "data": {
            "text/plain": [
              "<Figure size 640x480 with 1 Axes>"
            ],
            "image/png": "[encoded data removed]"
          },
          "metadata": {}
        }
      ]
    },
    {
      "cell_type": "markdown",
      "source": [
        "Let's create a loss function to measure the error of our regressor. In this case, we'll use the MSE loss, but feel free to change it. Note the similarity of the function to the example used to illustrate Autograd."
      ],
      "metadata": {
        "id": "GG7RGD4L4mur"
      }
    },
    {
      "cell_type": "code",
      "source": [
        "def mse_loss(y_hat, y_target):\n",
        "    return (y_hat - y_target).pow(2.).mean()"
      ],
      "metadata": {
        "id": "ZAjjW_Uuy7uv"
      },
      "execution_count": 48,
      "outputs": []
    },
    {
      "cell_type": "markdown",
      "source": [
        "The code cell below just initializes a couple of hyperparameters, and helper variables to log the progress of the trainig process."
      ],
      "metadata": {
        "id": "XsqngFJO5HG0"
      }
    },
    {
      "cell_type": "code",
      "source": [
        "# learning rate\n",
        "lr = 0.1\n",
        "\n",
        "# maximum number of iterations\n",
        "iters = 100\n",
        "\n",
        "# used to log loss values for visualization purposes\n",
        "loss_values = []\n",
        "param_values = []"
      ],
      "metadata": {
        "id": "wY1ZO4UJzkGV"
      },
      "execution_count": 49,
      "outputs": []
    },
    {
      "cell_type": "markdown",
      "source": [
        "In this case, as the data is 2 dimensional the regressor will have two values: corresponding to the slope and intercept. This parameters will be stored in a single `Tensor` object initialized to random values:"
      ],
      "metadata": {
        "id": "pn6iZs6R5qKb"
      }
    },
    {
      "cell_type": "code",
      "source": [
        "# intialize the parameters of the model\n",
        "model = torch.randn(2, requires_grad=True)\n",
        "model"
      ],
      "metadata": {
        "colab": {
          "base_uri": "https://localhost:8080/"
        },
        "id": "1bjmquwy5QAQ",
        "outputId": "182bdbe6-c6a5-4281-b979-837667cbb2a7"
      },
      "execution_count": 50,
      "outputs": [
        {
          "output_type": "execute_result",
          "data": {
            "text/plain": [
              "tensor([-0.9504, -0.7520], requires_grad=True)"
            ]
          },
          "metadata": {},
          "execution_count": 50
        }
      ]
    },
    {
      "cell_type": "markdown",
      "source": [
        "This code block is where all the fun happens: *the training loop*.\n",
        "\n",
        "Step by step the training loop goes as the following:\n",
        "\n",
        "1. Given $x$, use the model to compute the estimate $\\hat{y}$.\n",
        "2. Compute the loss value based on the actual $y$ and the estimate $\\hat{y}$.\n",
        "3. Call `.backward()` on the loss value, this way autograd will fill the gradients of the tensors that produced $\\hat{y}$.\n",
        "4. Update the parameters of the model using gradient descent.\n",
        "5. Reset the gradients of the tensors to zero before the next iteration."
      ],
      "metadata": {
        "id": "49zGV9yE6T7e"
      }
    },
    {
      "cell_type": "code",
      "source": [
        "for it in range(iters):\n",
        "\n",
        "    # 👁️ (1) compute the estimated y values using our model\n",
        "    y_hat = x * model[0] + model[1]\n",
        "\n",
        "    # 👁️ (2) compute the error\n",
        "    loss = mse_loss(y_hat, y)\n",
        "\n",
        "    # just for logging\n",
        "    loss_values.append(loss.item())\n",
        "    param_values.append(model.detach().tolist())\n",
        "    if it % 10 == 0:\n",
        "        print(f\"{it+1}/{    iters} MSE: {loss.item()}\")\n",
        "\n",
        "    # 👁️ (3) use autograd to compute gradients w.r.t the loss\n",
        "    loss.backward()\n",
        "\n",
        "    with torch.no_grad(): # within this block, autograd is disabled\n",
        "        # 👁️ (4) update the parameters of the model\n",
        "        # note that we don't want autograd to track this operation\n",
        "        model -= lr*model.grad\n",
        "\n",
        "    # 👁️ (5) set gradients to zero for the next iteration,\n",
        "    # otherwise gradients accumulate\n",
        "    model.grad.data.zero_()"
      ],
      "metadata": {
        "colab": {
          "base_uri": "https://localhost:8080/"
        },
        "id": "adniGKBR2k3F",
        "outputId": "d030841c-19d1-4b10-c2fd-499140117acd"
      },
      "execution_count": 51,
      "outputs": [
        {
          "output_type": "stream",
          "name": "stdout",
          "text": [
            "1/100 MSE: 3.28828763961792\n",
            "11/100 MSE: 0.12310733646154404\n",
            "21/100 MSE: 0.08804365247488022\n",
            "31/100 MSE: 0.06839004158973694\n",
            "41/100 MSE: 0.05363260582089424\n",
            "51/100 MSE: 0.042537230998277664\n",
            "61/100 MSE: 0.03419513255357742\n",
            "71/100 MSE: 0.027923090383410454\n",
            "81/100 MSE: 0.02320743352174759\n",
            "91/100 MSE: 0.019661951810121536\n"
          ]
        }
      ]
    },
    {
      "cell_type": "markdown",
      "source": [
        "Plot the data logged during the training process:"
      ],
      "metadata": {
        "id": "oyb1P-Lb9G-M"
      }
    },
    {
      "cell_type": "code",
      "source": [
        "# This is just an utility function, its content isn't relevant for the moment\n",
        "def viz_linear_reg(loss_values, param_values):\n",
        "    plt.subplot(2, 1, 1)\n",
        "    plt.plot(loss_values)\n",
        "    plt.title(\"Loss curve\")\n",
        "    plt.ylabel(\"MSE Loss\")\n",
        "    plt.xlabel(\"Iteration\")\n",
        "\n",
        "    plt.subplot(2, 1, 2)\n",
        "    plt.scatter(x, y, alpha=0.7)\n",
        "\n",
        "    for i, param in enumerate(param_values):\n",
        "        plt.axline((0, param[1]), slope=param[0],\n",
        "            color=[1., 0., 0., 0.5*i/len(param_values)])\n",
        "    plt.xlabel(\"X\")\n",
        "    plt.ylabel(\"Y\")\n",
        "    plt.title(\"Evolution of the paramaters\")\n",
        "    plt.tight_layout()\n",
        "\n",
        "viz_linear_reg(loss_values, param_values)"
      ],
      "metadata": {
        "colab": {
          "base_uri": "https://localhost:8080/",
          "height": 486
        },
        "id": "NAxMASqI89ZM",
        "outputId": "928947de-0101-4a7d-ca52-adc3cd427e70"
      },
      "execution_count": 52,
      "outputs": [
        {
          "output_type": "display_data",
          "data": {
            "text/plain": [
              "<Figure size 640x480 with 2 Axes>"
            ],
            "image/png": "[encoded data removed]"
          },
          "metadata": {}
        }
      ]
    },
    {
      "cell_type": "markdown",
      "source": [
        "## A little bit more sophisticated example 🧞\n",
        "\n",
        "Despite the simplicity of the following example, we used quite \"low level\" constructs to conduct it. Normally, one doesn't directly define the parameters of the model as tensors, and doesn't perform gradient descent by hand.\n",
        "\n",
        "In this exercise, we'll apply the same concepts but in a higher level of abstraction, using the ergonomic functionalities that PyTorch offers.\n",
        "\n",
        "<br>\n",
        "\n",
        "First, let's initialize the same model but using PyTorch's [`nn`](https://pytorch.org/docs/stable/nn.html) module:"
      ],
      "metadata": {
        "id": "qllmuGLt-ijT"
      }
    },
    {
      "cell_type": "code",
      "source": [
        "import torch.nn as nn\n",
        "\n",
        "model = nn.Linear(1, 1)\n",
        "\n",
        "model"
      ],
      "metadata": {
        "colab": {
          "base_uri": "https://localhost:8080/"
        },
        "id": "AXrnQH00_x-s",
        "outputId": "9101fcf3-3577-4111-ab78-eb35cde396dc"
      },
      "execution_count": 53,
      "outputs": [
        {
          "output_type": "execute_result",
          "data": {
            "text/plain": [
              "Linear(in_features=1, out_features=1, bias=True)"
            ]
          },
          "metadata": {},
          "execution_count": 53
        }
      ]
    },
    {
      "cell_type": "markdown",
      "source": [
        "Inspecting the `Linear` object (more info [here](https://pytorch.org/docs/stable/generated/torch.nn.Linear.html#linear)), we can see that it holds the same slope and intercept values as in the later exercise."
      ],
      "metadata": {
        "id": "BTsvjrxA_e2x"
      }
    },
    {
      "cell_type": "code",
      "source": [
        "model.weight"
      ],
      "metadata": {
        "colab": {
          "base_uri": "https://localhost:8080/"
        },
        "id": "5LFtlF6MAgjW",
        "outputId": "0c164f8f-35d5-445a-a1ed-de21c4652727"
      },
      "execution_count": null,
      "outputs": [
        {
          "output_type": "execute_result",
          "data": {
            "text/plain": [
              "Parameter containing:\n",
              "tensor([[0.4940]], requires_grad=True)"
            ]
          },
          "metadata": {},
          "execution_count": 19
        }
      ]
    },
    {
      "cell_type": "code",
      "source": [
        "model.bias"
      ],
      "metadata": {
        "colab": {
          "base_uri": "https://localhost:8080/"
        },
        "id": "jbYWJNfzA2YW",
        "outputId": "a393520b-a552-4017-f415-f318a17e5d68"
      },
      "execution_count": 54,
      "outputs": [
        {
          "output_type": "execute_result",
          "data": {
            "text/plain": [
              "Parameter containing:\n",
              "tensor([0.4506], requires_grad=True)"
            ]
          },
          "metadata": {},
          "execution_count": 54
        }
      ]
    },
    {
      "cell_type": "markdown",
      "source": [
        "As primised, this time we won't perform gradient descent by hand, instead we'll employ the `SGD` optimizer from the PyTorch's [`optim`](https://pytorch.org/docs/stable/optim.html) module.\n",
        "\n",
        "Note that `SGD` is given the parameters of the model and the learning rate (optional) in the initialization. For the complete list of arguments and more info visit the [docs](https://pytorch.org/docs/stable/generated/torch.optim.SGD.html?highlight=sgd#torch.optim.SGD).  "
      ],
      "metadata": {
        "id": "kkSl0zfe_6d2"
      }
    },
    {
      "cell_type": "code",
      "source": [
        "from torch.optim import SGD\n",
        "\n",
        "optimizer = SGD(model.parameters(), lr=lr)"
      ],
      "metadata": {
        "id": "8pd0dPWj-1Cf"
      },
      "execution_count": 55,
      "outputs": []
    },
    {
      "cell_type": "markdown",
      "source": [
        "The code cell below presents the modified training loop from the later exercise, in this case using PyTorch's `Linear` and `SGD` objects.\n",
        "Note that the loop continues to have the same five steps, however, in this case the optimization (step 4) is handled by PyTorch. Although basic SGD can be quite simple to implement by hand, it's handy to have more exotic (e.g. AdamW or RMSprop) optimizers efficiently implemented (although it's a fun exercise to do so)."
      ],
      "metadata": {
        "id": "01TsPXNNA8dF"
      }
    },
    {
      "cell_type": "code",
      "source": [
        "loss_values = []\n",
        "param_values = []\n",
        "\n",
        "for it in range(100):\n",
        "    # 👁️ (1) compute the estimated y values using our model\n",
        "    y_hat = model(x)\n",
        "\n",
        "    # 👁️ (2) compute the error\n",
        "    loss = mse_loss(y_hat, y)\n",
        "\n",
        "\n",
        "    # ---- just for logging ---- #\n",
        "\n",
        "    loss_values.append(loss.item())\n",
        "    param_values.append([model.weight[0][0].item(),\n",
        "                         model.bias[0].item()])\n",
        "    if it % 10 == 0:\n",
        "        print(f\"{it+1}/{iters} MSE: {loss.item()}\")\n",
        "\n",
        "    # -------------------------- #\n",
        "\n",
        "\n",
        "    # 👁️ (3) tell autograd to compute gradients w.r.t the loss\n",
        "    loss.backward()\n",
        "\n",
        "    # 👁️ (4) update the parameters of the model\n",
        "    optimizer.step()\n",
        "\n",
        "    # 👁️ (5) clear previous gradient values\n",
        "    optimizer.zero_grad()"
      ],
      "metadata": {
        "colab": {
          "base_uri": "https://localhost:8080/"
        },
        "id": "wkSYQ9abBh6w",
        "outputId": "4560480e-dc5a-4768-ffb7-61ea76a6dfba"
      },
      "execution_count": null,
      "outputs": [
        {
          "output_type": "stream",
          "name": "stdout",
          "text": [
            "1/100 MSE: 0.2688156068325043\n",
            "11/100 MSE: 0.01625615917146206\n",
            "21/100 MSE: 0.01455574482679367\n",
            "31/100 MSE: 0.013754534535109997\n",
            "41/100 MSE: 0.013131619431078434\n",
            "51/100 MSE: 0.01264622900635004\n",
            "61/100 MSE: 0.012268003076314926\n",
            "71/100 MSE: 0.011973278596997261\n",
            "81/100 MSE: 0.011743620969355106\n",
            "91/100 MSE: 0.011564667336642742\n"
          ]
        }
      ]
    },
    {
      "cell_type": "markdown",
      "source": [
        "Visualize the training process:"
      ],
      "metadata": {
        "id": "i5Pz7dyaDYpm"
      }
    },
    {
      "cell_type": "code",
      "source": [
        "viz_linear_reg(loss_values, param_values)"
      ],
      "metadata": {
        "colab": {
          "base_uri": "https://localhost:8080/",
          "height": 486
        },
        "id": "WGKJesHBDK7n",
        "outputId": "02352709-ec9b-49ee-e931-1658b45338fa"
      },
      "execution_count": 56,
      "outputs": [
        {
          "output_type": "display_data",
          "data": {
            "text/plain": [
              "<Figure size 640x480 with 2 Axes>"
            ],
            "image/png": "[encoded data removed]"
          },
          "metadata": {}
        }
      ]
    },
    {
      "cell_type": "markdown",
      "source": [
        "## We are ready for the neurons 🧠  \n",
        "\n",
        "Up until this point we have seen the basics of tensors, their operations and properties, optimizers, and used autograd for linear regression. In this section, we'll use all this knowledge to train a neural network to classify MNIST digits!! 🔢 (I know... not super exciting, but a good stepping stone towards becoming a Pytorch ninja).\n",
        "\n",
        "Although this example might sound trivial, the described training process follows the same logic and concepts as many real-life use cases.  "
      ],
      "metadata": {
        "id": "Vlk_0WAIncx-"
      }
    },
    {
      "cell_type": "markdown",
      "source": [
        "### Loading and preparing the data 📥\n",
        "\n",
        "The first step is to import `torchvision`, PyTorch's module for computer vision."
      ],
      "metadata": {
        "id": "sM8sxK_KqOJ3"
      }
    },
    {
      "cell_type": "code",
      "source": [
        "import torchvision\n",
        "import torchvision.transforms as transforms"
      ],
      "metadata": {
        "id": "e-F58KZwqGJT"
      },
      "execution_count": 57,
      "outputs": []
    },
    {
      "cell_type": "markdown",
      "source": [
        "The following function is just an  utility function, and it's contents aren't very relevant for the objectives of the exercise. You can try to understand what the function does in depth later as an extra exercise."
      ],
      "metadata": {
        "id": "-z7iJYdBLd-q"
      }
    },
    {
      "cell_type": "code",
      "source": [
        "# utility function\n",
        "def show_batch(batch):\n",
        "    batch = batch.view(-1, 1, 28, 28) # de-flatten\n",
        "    img = torchvision.utils.make_grid(batch)\n",
        "    img = img / 2 + 0.5 # unnormalize\n",
        "    npimg = img.numpy()\n",
        "    plt.imshow(np.transpose(npimg, (1, 2, 0)))\n",
        "    plt.show()"
      ],
      "metadata": {
        "id": "EAWGswfQs7Q1"
      },
      "execution_count": 58,
      "outputs": []
    },
    {
      "cell_type": "markdown",
      "source": [
        "Let's download and preprocess the MNIST dataset:"
      ],
      "metadata": {
        "id": "tDPdcgvGL7UL"
      }
    },
    {
      "cell_type": "code",
      "source": [
        "transform = transforms.Compose([\n",
        "     transforms.ToTensor(),\n",
        "     transforms.Normalize(0.5, 0.5),\n",
        "     lambda x: x.flatten(),\n",
        "    ])\n",
        "\n",
        "batch_size = 128\n",
        "\n",
        "# training data\n",
        "trainset = torchvision.datasets.MNIST(root='./data', train=True,\n",
        "                                        download=True, transform=transform)\n",
        "trainloader = torch.utils.data.DataLoader(trainset, batch_size=batch_size,\n",
        "                                          shuffle=True, num_workers=2)\n",
        "\n",
        "# test data\n",
        "testset = torchvision.datasets.MNIST(root='./data', train=False,\n",
        "                                       download=True, transform=transform)\n",
        "testloader = torch.utils.data.DataLoader(testset, batch_size=batch_size,\n",
        "                                         shuffle=False, num_workers=2)"
      ],
      "metadata": {
        "id": "nJMKpGH6qcFV"
      },
      "execution_count": 61,
      "outputs": []
    },
    {
      "cell_type": "markdown",
      "source": [
        "There's quite a lot going in the code cell above, let's go step by step:\n",
        "\n",
        "1. Define the transformation to apply to the dataset. Via `transforms.Compose` PyTorch enables to construct a pipeline of functions to preprocess the data before training (more info [here](https://pytorch.org/vision/main/transforms.html)). In this example, the pipeline goes as the following:\n",
        " 1. Images are first converted to tensors.\n",
        " 2. Normalize the images, as by default images are defined in the RGB space (values from 0 to 255).\n",
        " 3. MNIST contains 28x28 pixel images, flatten the images to 784 element vectors, as we'll consider a simple multi-layer perceptron and not a convolutional neural network.  \n",
        "\n",
        "2. Download the training set of MNIST and store it in a PyToch's `DataSet` object. This is used to download the data, load it to Python, and applying the `transform` defined in the step above. Then, prepare the dataset for training using the `DataLoader` object (more info on DataSet and DataLoaders [here](https://pytorch.org/tutorials/beginner/basics/data_tutorial.html)). The `DataLoader` is used to shuffle the dataset and split it in batches.\n",
        "\n",
        "3. Same for the test set of the MNIST dataset."
      ],
      "metadata": {
        "id": "J5Za-T5xMFTf"
      }
    },
    {
      "cell_type": "markdown",
      "source": [
        "Let's see how can we use the just created `DataLoader`:"
      ],
      "metadata": {
        "id": "TBu5EmCwPkgs"
      }
    },
    {
      "cell_type": "code",
      "source": [
        "# convert the DataLoader to a python's iterator\n",
        "trainiter = iter(trainloader)\n",
        "\n",
        "# get the first element of the iterator (the first batch)\n",
        "images, labels = next(trainiter)\n",
        "\n",
        "print(f\"images: {images.size()}, labels: {labels.size()}\\n\\n\")\n",
        "\n",
        "show_batch(images[:4]) # show the first 4 images of the batch"
      ],
      "metadata": {
        "colab": {
          "base_uri": "https://localhost:8080/",
          "height": 246
        },
        "id": "wQLnSfGLq9wY",
        "outputId": "4d5be285-2a35-4b2a-a4c5-15ab8f2a6472"
      },
      "execution_count": 66,
      "outputs": [
        {
          "output_type": "stream",
          "name": "stdout",
          "text": [
            "images: torch.Size([128, 784]), labels: torch.Size([128])\n",
            "\n",
            "\n"
          ]
        },
        {
          "output_type": "display_data",
          "data": {
            "text/plain": [
              "<Figure size 640x480 with 1 Axes>"
            ],
            "image/png": "[encoded data removed]"
          },
          "metadata": {}
        }
      ]
    },
    {
      "cell_type": "markdown",
      "source": [
        "## Defining the model 🥼🧪\n",
        "\n",
        "Remember that in the previous exercises we have defined our model as a PyTorch `Tensor` and as a `Linear` module. As in this exercise we're going to build a more complex model (a MLP), it's convenint to define it as a PyTorch module (see the  [docs](https://pytorch.org/docs/stable/generated/torch.nn.Module.html)).\n",
        "PyTorch modules are objects normally used to compose models, where models can be composed by other modules (it's a bit of a matryoshka). In fact, `Linear` is an already defined module (there are many more, check [this](https://pytorch.org/docs/stable/nn.html)) that we can use to build our own one!"
      ],
      "metadata": {
        "id": "zyjOeWljtVN2"
      }
    },
    {
      "cell_type": "code",
      "source": [
        "class Net(nn.Module): # inherit nn.Module\n",
        "    def __init__(self):\n",
        "        super().__init__()\n",
        "\n",
        "        # define the layers\n",
        "        self.l1 = nn.Linear(28*28, 512)\n",
        "        self.l2 = nn.Linear(512, 10)\n",
        "\n",
        "        # an activation function, feel free to change it\n",
        "        self.activation = nn.ReLU()\n",
        "\n",
        "        # as an extra, let's also add drop out (with 0.2 prob.)\n",
        "        self.d1 = nn.Dropout(0.2)\n",
        "\n",
        "    # this method will called every forward pass of our model\n",
        "    def forward(self, x):\n",
        "        # define the forward pass\n",
        "        x = self.l1(x)\n",
        "        x = self.activation(x)\n",
        "        x = self.d1(x)\n",
        "        x = self.l2(x)\n",
        "        return x"
      ],
      "metadata": {
        "id": "3ZPIt4_dteMf"
      },
      "execution_count": 68,
      "outputs": []
    },
    {
      "cell_type": "markdown",
      "source": [
        "Initialize our model:"
      ],
      "metadata": {
        "id": "i4JhFjpiS01G"
      }
    },
    {
      "cell_type": "code",
      "source": [
        "model = Net().to(device)"
      ],
      "metadata": {
        "id": "D-R_4ZfFtUu5"
      },
      "execution_count": 69,
      "outputs": []
    },
    {
      "cell_type": "markdown",
      "source": [
        "Note that `.to(device)` has been used to move the model to the selected device (\"cuda:0\" or \"cpu\" in our case)."
      ],
      "metadata": {
        "id": "-fNOIghqS9k2"
      }
    },
    {
      "cell_type": "markdown",
      "source": [
        "## The training loop 🔃\n",
        "\n",
        "As a common practice, we'll use a PyTorch optimizer to optimize our model:"
      ],
      "metadata": {
        "id": "a1-fkNMFvOlY"
      }
    },
    {
      "cell_type": "code",
      "source": [
        "optimizer = optim.Adam(model.parameters())"
      ],
      "metadata": {
        "id": "ahY8H61Nu0hh"
      },
      "execution_count": 70,
      "outputs": []
    },
    {
      "cell_type": "markdown",
      "source": [
        "In this case, for convenience, instead of implementing our own loss function we're going to use an already defined one, the [`CrossEntropyLoss`](https://pytorch.org/docs/2.0/generated/torch.nn.CrossEntropyLoss.html?highlight=crossentropyloss#torch.nn.CrossEntropyLoss). PyTorch implements many loss functions, they are available [here](https://pytorch.org/docs/stable/nn.html#loss-functions)."
      ],
      "metadata": {
        "id": "axb_-NShTaIZ"
      }
    },
    {
      "cell_type": "code",
      "source": [
        "criterion = nn.CrossEntropyLoss()"
      ],
      "metadata": {
        "id": "naLO_0PkTaRf"
      },
      "execution_count": 71,
      "outputs": []
    },
    {
      "cell_type": "markdown",
      "source": [
        "And finally, here is the main training loop!"
      ],
      "metadata": {
        "id": "2tid11S6URsx"
      }
    },
    {
      "cell_type": "code",
      "source": [
        "from tqdm import tqdm # used for the pretty progress bar\n",
        "\n",
        "num_epochs = 3\n",
        "\n",
        "for epoch in range(num_epochs): # for each epoch\n",
        "\n",
        "    loss_sum = 0 # used to compute the epoch's mean loss\n",
        "\n",
        "    for images, labels in tqdm(trainloader): # for each batch in the train set\n",
        "\n",
        "        # use the model to make a prediction\n",
        "        pred = model(images.to(device))\n",
        "\n",
        "        # compute the error of the model w.r.t the truth labels\n",
        "        loss = criterion(pred, labels.to(device))\n",
        "\n",
        "        loss_sum += loss.item() # used to compute the epoch's mean loss\n",
        "\n",
        "        # optimization\n",
        "        loss.backward()       # compute gradients\n",
        "        optimizer.step()      # run the optimizer\n",
        "        optimizer.zero_grad() # clear gradients for the next batch\n",
        "\n",
        "    print(f\"\\n** {epoch+1}/{num_epochs} mean loss: {loss_sum/len(trainloader)}\\n\")"
      ],
      "metadata": {
        "colab": {
          "base_uri": "https://localhost:8080/"
        },
        "id": "YUkUMXzVwFAk",
        "outputId": "459f230d-fb7b-43fe-8a38-77307e32accd"
      },
      "execution_count": 72,
      "outputs": [
        {
          "output_type": "stream",
          "name": "stderr",
          "text": [
            "100%|██████████| 469/469 [00:16<00:00, 28.41it/s]\n"
          ]
        },
        {
          "output_type": "stream",
          "name": "stdout",
          "text": [
            "\n",
            "** 1/3 mean loss: 0.37620252186555597\n",
            "\n"
          ]
        },
        {
          "output_type": "stream",
          "name": "stderr",
          "text": [
            "100%|██████████| 469/469 [00:12<00:00, 38.69it/s]\n"
          ]
        },
        {
          "output_type": "stream",
          "name": "stdout",
          "text": [
            "\n",
            "** 2/3 mean loss: 0.18268750928866584\n",
            "\n"
          ]
        },
        {
          "output_type": "stream",
          "name": "stderr",
          "text": [
            "100%|██████████| 469/469 [00:12<00:00, 38.56it/s]"
          ]
        },
        {
          "output_type": "stream",
          "name": "stdout",
          "text": [
            "\n",
            "** 3/3 mean loss: 0.13747020384300745\n",
            "\n"
          ]
        },
        {
          "output_type": "stream",
          "name": "stderr",
          "text": [
            "\n"
          ]
        }
      ]
    },
    {
      "cell_type": "markdown",
      "source": [
        "## Evaluation 🔍\n",
        "\n",
        "Once we have our model trained, let's see how it behaves. The following code cell takes the first four images of the test set and uses the model to predict it's labels."
      ],
      "metadata": {
        "id": "15F2e3g00X5C"
      }
    },
    {
      "cell_type": "code",
      "source": [
        "images, labels = next(iter(testloader)) # get the first batch\n",
        "\n",
        "# select the first four elements of the batch\n",
        "images = images[:4]\n",
        "labels = labels[:4]\n",
        "\n",
        "# plot the selected images\n",
        "show_batch(images)\n",
        "\n",
        "# When evaluating a model it must be set to eval mode, else dropout and other\n",
        "# regularization modules will still be active and bad things will happen.\n",
        "# To go bacj to training mode use model.train().\n",
        "model.eval() # ==> IMPORTANT!\n",
        "\n",
        "# use the model to make a prediction\n",
        "preds = model(images.to(device))    # note that the model outputs logits\n",
        "preds = torch.argmax(preds, dim=-1) # take the labels with greatest prob.\n",
        "print(f\"\\n** Predictions:\", preds.tolist())"
      ],
      "metadata": {
        "colab": {
          "base_uri": "https://localhost:8080/",
          "height": 229
        },
        "id": "cPrY2OsE0xLf",
        "outputId": "80a5da73-c213-47f6-c994-befa09dbcad7"
      },
      "execution_count": 79,
      "outputs": [
        {
          "output_type": "display_data",
          "data": {
            "text/plain": [
              "<Figure size 640x480 with 1 Axes>"
            ],
            "image/png": "[encoded data removed]"
          },
          "metadata": {}
        },
        {
          "output_type": "stream",
          "name": "stdout",
          "text": [
            "\n",
            "** Predictions: [7, 2, 1, 0]\n"
          ]
        }
      ]
    },
    {
      "cell_type": "markdown",
      "source": [],
      "metadata": {
        "id": "qxI_HtKaYu1x"
      }
    },
    {
      "cell_type": "markdown",
      "source": [
        "<br>\n",
        "<br>\n",
        "\n",
        "And this is all! Congrats for reaching here!!👏🪘🪇 You're one step closer to\n",
        "become a PyTorch ninja🥷, but that's a journey you will have to follow alone 🎒🏕🏋🏞🗺.\n",
        "\n",
        "Hope you liked the tutorial and learned something!\n",
        "\n",
        "Agur!! 👋🤓"
      ],
      "metadata": {
        "id": "DPES1_KfWl8m"
      }
    }
  ]
}